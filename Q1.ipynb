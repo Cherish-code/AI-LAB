{
 "cells": [
  {
   "cell_type": "code",
   "execution_count": 27,
   "metadata": {},
   "outputs": [
    {
     "name": "stdout",
     "output_type": "stream",
     "text": [
      "apple\n",
      "watermelon\n",
      "banana\n",
      "pineapple\n",
      "orange\n"
     ]
    }
   ],
   "source": [
    "asds= ['apple','watermelon','banana','pineapple','orange']\n",
    "for i in range(len(asds)):\n",
    "    print (str(list[i]))"
   ]
  },
  {
   "cell_type": "code",
   "execution_count": 115,
   "metadata": {},
   "outputs": [
    {
     "name": "stdout",
     "output_type": "stream",
     "text": [
      "I found it!\n"
     ]
    }
   ],
   "source": [
    "fruit = ['apple','watermelon','banana','pineapple','orange']\n",
    "for i in range (len(fruit)):\n",
    "        if str(fruit[i])==\"apple\":\n",
    "            print(\"I found it!\")"
   ]
  },
  {
   "cell_type": "code",
   "execution_count": 39,
   "metadata": {},
   "outputs": [
    {
     "name": "stdout",
     "output_type": "stream",
     "text": [
      "apple\n",
      "watermelon\n",
      "banana\n",
      "pineapple\n",
      "orange\n",
      "pear\n",
      "mandarin\n"
     ]
    }
   ],
   "source": [
    "fruit = ['apple','watermelon','banana','pineapple','orange']\n",
    "fruit.append('pear')\n",
    "fruit.append('mandarin')\n",
    "for i in range(len(fruit)):\n",
    "    print (str(fruit[i]))"
   ]
  },
  {
   "cell_type": "code",
   "execution_count": 108,
   "metadata": {},
   "outputs": [
    {
     "name": "stdout",
     "output_type": "stream",
     "text": [
      "apple has 5 letter.\n",
      "watermelon has 10 letter.\n",
      "banana has 6 letter.\n",
      "pineapple has 9 letter.\n",
      "orange has 6 letter.\n"
     ]
    }
   ],
   "source": [
    "fruits = ['apple','watermelon','banana','pineapple','orange']\n",
    "str_sum=0\n",
    "for i in range(len(fruit)):\n",
    "    str1 =fruit[i]\n",
    "    for strs in str1:\n",
    "        #如果在字符串中有字符，那么字符的数量+1\n",
    "        if strs.isalpha():\n",
    "            str_sum += 1\n",
    "    if str_sum>1:\n",
    "        print (\"%s has %d letter.\"%(fruits[i],str_sum))\n",
    "    str_sum=0"
   ]
  },
  {
   "cell_type": "code",
   "execution_count": 110,
   "metadata": {},
   "outputs": [
    {
     "name": "stdout",
     "output_type": "stream",
     "text": [
      "input students' score: 66\n",
      "B\n"
     ]
    }
   ],
   "source": [
    "stu=int(input(\"input students' score: \"))\n",
    "if stu>=90:\n",
    "    print(\"A\")\n",
    "elif stu>60 and stu<89:\n",
    "    print(\"B\")\n",
    "elif stu<=60:\n",
    "    print(\"C\")\n",
    "else:\n",
    "    print(\"The scores is wrong\")"
   ]
  },
  {
   "cell_type": "code",
   "execution_count": 178,
   "metadata": {},
   "outputs": [
    {
     "data": {
      "text/plain": [
       "(32, 12, 4)"
      ]
     },
     "execution_count": 178,
     "metadata": {},
     "output_type": "execute_result"
    }
   ],
   "source": [
    "def revSort(a,b,c):\n",
    "    if b>a:\n",
    "        a,b,c=b,a,c\n",
    "        if c>a:\n",
    "            a,b,c=c,a,b\n",
    "        else:\n",
    "            if c>b:\n",
    "                a,b,c=a,c,b\n",
    "    if c>a:\n",
    "        a,b,c=c,a,b\n",
    "    if c>b:\n",
    "        a,b,c=a,c,b\n",
    "    return a,b,c\n",
    "\n",
    "revSort(12,4,32)"
   ]
  },
  {
   "cell_type": "code",
   "execution_count": 179,
   "metadata": {},
   "outputs": [
    {
     "name": "stdout",
     "output_type": "stream",
     "text": [
      "1\n",
      "2\n",
      "3\n",
      "4\n",
      "5\n",
      "6\n"
     ]
    }
   ],
   "source": [
    "list1 = [1,2,3]\n",
    "list2 = [4,5,6]\n",
    "array = [list1,list2]\n",
    "for i in range(len(array)):\n",
    "    for j in range(len(array[0])):\n",
    "        print(array[i][j])"
   ]
  },
  {
   "cell_type": "code",
   "execution_count": 112,
   "metadata": {},
   "outputs": [
    {
     "name": "stdout",
     "output_type": "stream",
     "text": [
      "1\n",
      "8\n",
      "17\n",
      "18\n",
      "26\n",
      "27\n"
     ]
    }
   ],
   "source": [
    "for i in range(1,101):\n",
    "    a=i**3\n",
    "    string=str(a)\n",
    "    s_um=sum(map(int,str(a)))\n",
    "    if i==s_um:\n",
    "        print(i)"
   ]
  },
  {
   "cell_type": "code",
   "execution_count": 128,
   "metadata": {},
   "outputs": [
    {
     "name": "stdout",
     "output_type": "stream",
     "text": [
      "   *   \n",
      "  ***  \n",
      " ***** \n",
      "*******\n",
      " ***** \n",
      "  ***  \n",
      "   *   \n"
     ]
    }
   ],
   "source": [
    "s = '*'\n",
    "for i in range(1,8,2):\n",
    "    t = (7-i)//2\n",
    "    print(' '*t + s*i + ' '*t)\n",
    "for i in reversed(range(1,6,2)):\n",
    "    t = (7-i)//2\n",
    "    print(' '*t + s*i + ' '*t)"
   ]
  },
  {
   "cell_type": "code",
   "execution_count": 6,
   "metadata": {},
   "outputs": [
    {
     "name": "stdout",
     "output_type": "stream",
     "text": [
      "123456\n",
      "234561\n",
      "345612\n",
      "456123\n",
      "561234\n",
      "612345\n"
     ]
    }
   ],
   "source": [
    "for i in range(1,7):\n",
    "    for j in range(i,7):\n",
    "        print(j,end=\"\")\n",
    "    for l in range(1,i-1+1):\n",
    "        print(l,end=\"\")\n",
    "    print()"
   ]
  },
  {
   "cell_type": "code",
   "execution_count": 7,
   "metadata": {},
   "outputs": [
    {
     "name": "stdout",
     "output_type": "stream",
     "text": [
      "Charles\n",
      "Martina\n",
      "Michael\n"
     ]
    }
   ],
   "source": [
    "players = ['charles','martina','michael','florence','eli']\n",
    "for player in players[:3]:\n",
    "    print(player.title())"
   ]
  },
  {
   "cell_type": "code",
   "execution_count": null,
   "metadata": {},
   "outputs": [],
   "source": []
  }
 ],
 "metadata": {
  "kernelspec": {
   "display_name": "Python 3",
   "language": "python",
   "name": "python3"
  },
  "language_info": {
   "codemirror_mode": {
    "name": "ipython",
    "version": 3
   },
   "file_extension": ".py",
   "mimetype": "text/x-python",
   "name": "python",
   "nbconvert_exporter": "python",
   "pygments_lexer": "ipython3",
   "version": "3.6.5"
  }
 },
 "nbformat": 4,
 "nbformat_minor": 2
}
