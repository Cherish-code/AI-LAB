{
 "cells": [
  {
   "cell_type": "markdown",
   "metadata": {},
   "source": [
    "# Introduction to Artificial Intelligence for Non Computing"
   ]
  },
  {
   "cell_type": "markdown",
   "metadata": {},
   "source": [
    "## Practical 3 (weeks 5 - 6)"
   ]
  },
  {
   "cell_type": "markdown",
   "metadata": {},
   "source": [
    "The following links provide additional information about data analysis , machine learning and Numpy"
   ]
  },
  {
   "cell_type": "markdown",
   "metadata": {},
   "source": [
    "Python data analysis: https://www.imooc.com/learn/843\n",
    "machine learning: https://www.imooc.com/learn/717\n",
    "Numpy :https://www.imooc.com/learn/943"
   ]
  },
  {
   "cell_type": "markdown",
   "metadata": {},
   "source": [
    "#### Theory Questions"
   ]
  },
  {
   "cell_type": "markdown",
   "metadata": {},
   "source": [
    "1\\.Which of the following are true and which are false? Give brief explanations.\n",
    "- a. In a fully observable, turn-taking, zero-sum game between two perfectly rational players,it does not help the first player to know what strategy the second player is using—that is, what move the second player will make, given the first player's move.\n",
    "- b. In a partially observable, turn-taking, zero-sum game between two perfectly rational players, it does not help the first player to know what move the second player will make, given the first player's move.\n",
    "- c. A perfectly rational backgammon agent never loses.\n",
    "\n",
    "See textbook Chapter6 24.6"
   ]
  },
  {
   "cell_type": "markdown",
   "metadata": {},
   "source": [
    "_your answer here..._ \n",
    "\n",
    "***"
   ]
  },
  {
   "cell_type": "markdown",
   "metadata": {},
   "source": [
    "2\\.Define in your own words the terms constraint, backtracking search, arc consistency,backjumping, min-conflicts, and cycle cutset.\n",
    "\n",
    "See textbook Chapter6 6.16"
   ]
  },
  {
   "cell_type": "markdown",
   "metadata": {},
   "source": [
    "_your answer here..._ \n",
    "\n",
    "***"
   ]
  },
  {
   "cell_type": "markdown",
   "metadata": {},
   "source": [
    "3\\.Explain why it is a good heuristic to choose the variable that is most constrained but the value that is least constraining in a CSP search.\n",
    "\n",
    "See textbook Chapter6 6.9"
   ]
  },
  {
   "cell_type": "markdown",
   "metadata": {},
   "source": [
    "_your answer here..._ \n",
    "\n",
    "***"
   ]
  },
  {
   "cell_type": "markdown",
   "metadata": {},
   "source": [
    "4\\.Consider the following procedure for choosing moves in games with chance nodes: \n",
    "- 1、Generate some dice-roll sequences (say, 50) down to a suitable depth (say, 8).\n",
    "- 2、With known dice rolls, the game tree becomes deterministic. For each dice-roll sequence,solve the resulting deterministic game tree using alpha-beta.\n",
    "- 3、Use the results to estimate the value of each move and to choose the best.Will this procedure work well? Why (or why not)?\n",
    "\n",
    "See textbook Chapter5 5.19"
   ]
  },
  {
   "cell_type": "markdown",
   "metadata": {},
   "source": [
    "_your answer here..._ \n",
    "\n",
    "***"
   ]
  },
  {
   "cell_type": "markdown",
   "metadata": {},
   "source": [
    "5\\. Now,please consider this game:  there are three plates A, B and C, each plate has three bills. A puts 1, 20, 50; B puts 5, 10, 100; C puts 1, 5, 20. All units are \"Yuan\". There are two persons A and B, and two of them can check out three plates and banknotes .（ A is ourself, The other is B）\n",
    "The game is divided into three steps: \n",
    "- 1、A select a plate from three plate.\n",
    "- 2、B take out two banknotes from A selected plate,and give the  banknotes to A.  \n",
    "- 3、A take one of the two banknotes, and take it away.among,A want to get the max banknotes, B want to let A to get the min.\n",
    "\n",
    "Try to understand the minimax algorithm，you can click the link:https://blog.csdn.net/tangchenyi/article/details/22920031"
   ]
  },
  {
   "cell_type": "markdown",
   "metadata": {},
   "source": [
    "_your answer here..._ \n",
    "\n",
    "***"
   ]
  },
  {
   "cell_type": "markdown",
   "metadata": {},
   "source": [
    "### Programming Excercises"
   ]
  },
  {
   "cell_type": "markdown",
   "metadata": {},
   "source": [
    "1\\. Guess number(Single number): please generate a randomly number  with the function (random), then ask someone to guess the number,I think we should give the corresponding hint, otherwise it will be very difficult to guess the number.the game will be over untill you get the right number."
   ]
  },
  {
   "cell_type": "code",
   "execution_count": null,
   "metadata": {},
   "outputs": [],
   "source": [
    "## write your answer here!\n",
    "import random\n",
    "i = 1\n",
    "a = random.randint(0,100)\n",
    "b = int( input('请输入0-100中的一个数字\\n然后查看是否与电脑一样：'))\n",
    "while a != b:\n",
    "    if a > b:\n",
    "        print('你输入的数字小于电脑随机数字')\n",
    "        b = int(input('请再次输入数字:'))\n",
    "    else:\n",
    "        print('你输入的数字大于电脑随机数字')\n",
    "        b = int(input('请再次输入数字:'))\n",
    "    i+=1\n",
    "else:\n",
    "    print('恭喜你，你输入的数字与电脑的随机数字%d一样'%b)"
   ]
  },
  {
   "cell_type": "markdown",
   "metadata": {},
   "source": [
    "2\\.if you had understand the guess single number games,Congratulates,next is the guess three number games,Maybe you can do it well.But this is a different way of thinking. \n",
    "first : we need generate three numbers,there are most ten times chances give  you to guess the number,of course,we also give you some cue.\n",
    "\n",
    "- 'When I say:-->It means:\n",
    "- 'error--> The 3 numbers are not in the mystical numbers.'\n",
    "- 'Only the number is correct --> the number is right , but the position is not right.'\n",
    "- 'Absolutely right--> numbers is right and the position also right.'\n",
    "\n",
    "Maybe it's better for you to understand the rule well through see the picture.\n",
    "<div style=\"float:left;\" ><img src=\"img/p1.png\" width=\"400\" height=\"300\" >"
   ]
  },
  {
   "cell_type": "code",
   "execution_count": null,
   "metadata": {},
   "outputs": [],
   "source": [
    "import random\n",
    "i = 1\n",
    "a = random.randint(0,9)\n",
    "b = random.randint(0,9)\n",
    "c = random.randint(0,9)\n",
    "d=-1\n",
    "list=[]\n",
    "while d!=a*100+b*10+c:\n",
    "    d = int(input('This is %d time：' % i))\n",
    "    first = int(d/100)\n",
    "    second = int(d/10%10)\n",
    "    third = int(d%10)\n",
    "    print(first,second,third)\n",
    "    if(first==a):\n",
    "        list.insert(0,\"Absolutely right\")\n",
    "    if(first!=a ):\n",
    "        if( first!=b and first !=c):\n",
    "            list.insert(0, \"error\")\n",
    "        if (first == b or first == c):\n",
    "            list.insert(0, \"Only the number is correct\")\n",
    "    if (second == b):\n",
    "        list.insert(1, \"Absolutely right\")\n",
    "    if (second != b):\n",
    "        if (second != a and second != c):\n",
    "                list.insert(1, \"error\")\n",
    "        if (second == a or second == c):\n",
    "                list.insert(1, \"Only the number is correct\")\n",
    "    if (third == c):\n",
    "        list.insert(2, \"Absolutely right\")\n",
    "    if (third != c):\n",
    "        if (third != b and third != a):\n",
    "            list.insert(2, \"error\")\n",
    "        if (third == b or third == a):\n",
    "            list.insert(2, \"Only the number is correct\")\n",
    "\n",
    "    print(list)\n",
    "    list.clear()\n",
    "    i+=1"
   ]
  },
  {
   "cell_type": "markdown",
   "metadata": {},
   "source": [
    "3\\.please try using Python's Tkinter to make a visual interface（GUI）.if you don't know anything.Maybe you can refer to the below interface.and implement it by code.\n",
    "\n",
    "<div style=\"float:left;\" ><img src=\"img/p2.png\" width=\"200\" height=\"200\" >"
   ]
  },
  {
   "cell_type": "code",
   "execution_count": null,
   "metadata": {},
   "outputs": [],
   "source": [
    "## write your answe\n",
    "from tkinter import *  # 导入 Tkinter 库\n",
    "\n",
    "root = Tk()  # 创建窗口对象的背景色\n",
    "# 创建两个列表\n",
    "li = ['C', 'python', 'php', 'html', 'SQL', 'java']\n",
    "movie = ['CSS', 'jQuery', 'Bootstrap']\n",
    "listb = Listbox(root)  # 创建两个列表组件\n",
    "listb2 = Listbox(root)\n",
    "for item in li:  # 第一个小部件插入数据\n",
    "    listb.insert(0, item)\n",
    "\n",
    "for item in movie:  # 第二个小部件插入数据\n",
    "    listb2.insert(0, item)\n",
    "\n",
    "listb.pack()  # 将小部件放置到主窗口中\n",
    "listb2.pack()\n",
    "root.mainloop()  # 进入消息循环r here!"
   ]
  },
  {
   "cell_type": "markdown",
   "metadata": {},
   "source": [
    "4\\.Through the initial trial of Tkinter,    please write a simple calculator.\n",
    "\n",
    "<div style=\"float:left;\" ><img src=\"img/p3.png\" width=\"180\" height=\"200\" center=\"left\"></div>\n",
    "<div style=\"float:left;\" ><img src=\"img/p4.png\" width=\"180\" height=\"200\" center=\"right\" ></div>"
   ]
  },
  {
   "cell_type": "code",
   "execution_count": 12,
   "metadata": {},
   "outputs": [],
   "source": [
    "## write your answer here!\n",
    "class Counter: \n",
    " #引入tkinter \n",
    " import tkinter as tk \n",
    " #引入消息弹窗模块 \n",
    " import tkinter.messagebox as mbox \n",
    "  \n",
    " #初始化Counter \n",
    " def __init__(self): \n",
    "  #生成一个窗口对象 \n",
    "  self.window = self.tk.Tk() \n",
    "  #命名窗口对象的显示title \n",
    "  self.window.title('计算器') \n",
    "  #设置窗口的大小 \n",
    "  self.window.minsize(240, 325) \n",
    "  self.window.maxsize(240, 325) \n",
    "  #是否清空显示框判定参数 \n",
    "  self.is_init_lable = False\n",
    " \n",
    "  #设置显示框 \n",
    "  self.lable_show = self.tk.Label(text='', anchor='se', font=('黑体', 30), fg='black') \n",
    "  self.lable_show.place(x=0, y=0, width=240, height=80) \n",
    "  #设置按钮组件 \n",
    "  self.set_buttons() \n",
    "  #将窗口放入主消息队列 \n",
    "  self.window.mainloop() \n",
    "  \n",
    "  \n",
    " #设置按钮组件 \n",
    " def set_buttons(self): \n",
    "  #7 \n",
    "  btn7 = self.tk.Button(text='7', bd=2, font='黑体') \n",
    "  btn7.place(x=0, y=90, width=60, height=40) \n",
    "  #8 \n",
    "  btn8 = self.tk.Button(text='8', bd=2, font='黑体') \n",
    "  btn8.place(x=60, y=90, width=60, height=40) \n",
    "  #9 \n",
    "  btn9 = self.tk.Button(text='9', bd=2, font='黑体') \n",
    "  btn9.place(x=120, y=90, width=60, height=40) \n",
    "  #+ \n",
    "  btn_jia = self.tk.Button(text='+', bd=2, font='黑体') \n",
    "  btn_jia.place(x=180, y=90, width=60, height=40) \n",
    "  #4 \n",
    "  btn4 = self.tk.Button(text='4', bd=2, font='黑体') \n",
    "  btn4.place(x=0, y=130, width=60, height=40) \n",
    "  #5 \n",
    "  btn5 = self.tk.Button(text='5', bd=2, font='黑体') \n",
    "  btn5.place(x=60, y=130, width=60, height=40) \n",
    "  #6 \n",
    "  btn6 = self.tk.Button(text='6', bd=2, font='黑体') \n",
    "  btn6.place(x=120, y=130, width=60, height=40) \n",
    "  #- \n",
    "  btn_jian = self.tk.Button(text='-', bd=2, font='黑体') \n",
    "  btn_jian.place(x=180, y=130, width=60, height=40) \n",
    "  #1 \n",
    "  btn1 = self.tk.Button(text='1', bd=2, font='黑体') \n",
    "  btn1.place(x=0, y=170, width=60, height=40) \n",
    "  #2 \n",
    "  btn2 = self.tk.Button(text='2', bd=2, font='黑体') \n",
    "  btn2.place(x=60, y=170, width=60, height=40) \n",
    "  #3 \n",
    "  btn3 = self.tk.Button(text='3', bd=2, font='黑体') \n",
    "  btn3.place(x=120, y=170, width=60, height=40) \n",
    "  #* \n",
    "  btn_cheng = self.tk.Button(text='*', bd=2, font='黑体') \n",
    "  btn_cheng.place(x=180, y=170, width=60, height=40) \n",
    "  #0 \n",
    "  btn0 = self.tk.Button(text='0', bd=2, font='黑体') \n",
    "  btn0.place(x=0, y=210, width=120, height=40) \n",
    "  #. \n",
    "  btn_point = self.tk.Button(text='.', bd=2, font='黑体') \n",
    "  btn_point.place(x=120, y=210, width=60, height=40) \n",
    "  #/ \n",
    "  btn_chu = self.tk.Button(text='/', bd=2, font='黑体') \n",
    "  btn_chu.place(x=180, y=210, width=60, height=40) \n",
    "  #取消 \n",
    "  btn_cancel = self.tk.Button(text='C', bd=2, font='黑体') \n",
    "  btn_cancel.place(x=0, y=250, width=60, height=40) \n",
    "  #确定 \n",
    "  btn_ok = self.tk.Button(text='=', bd=2, font='黑体') \n",
    "  btn_ok.place(x=60, y=250, width=180, height=40) \n",
    "  #绑定Button的点击事件 \n",
    "  btn7.bind_class('Button', '<Button-1>', self.click_button) \n",
    "  \n",
    " #绑定Button的点击事件 \n",
    " def click_button(self,e): \n",
    "  #判断是否是新的运算,如果是则清空显示框 \n",
    "  if self.is_init_lable: \n",
    "   self.lable_show['text'] = '' \n",
    "   self.is_init_lable = False\n",
    "  #label_show显示的累加 \n",
    "  font = e.widget['text'] \n",
    "  self.lable_show['text'] += font \n",
    "  #异常捕获 \n",
    "  try: \n",
    "   #判定运算符号重复的时候,使用最后输入的符号 \n",
    "   if self.lable_show['text'][-1] in ['+','-','*','/'] and self.lable_show['text'][-2] in ['+','-','*','/']: \n",
    "    header = self.lable_show['text'][:-2] \n",
    "    footer = self.lable_show['text'][-1] \n",
    "    self.lable_show['text'] = header+footer \n",
    "  except: \n",
    "   pass\n",
    "  \n",
    "  #普通计算 \n",
    "  if e.widget['text'] == '=': \n",
    "   try: \n",
    "    res = eval(self.lable_show['text'][:-1]) \n",
    "    #print(res) \n",
    "    #小数点取到9位 \n",
    "    self.lable_show['text'] = str(round(float(res), 5)) \n",
    "    self.isinit = True\n",
    "   except ZeroDivisionError: \n",
    "    #除法时，除数不能为0 \n",
    "    self.mbox.showerror(message='除法计算时！除数不能为0！') \n",
    "   except: \n",
    "    self.mbox.showerror(message='算式有误') \n",
    "  #取消当前输入的字符 \n",
    "  if e.widget['text'] == 'C': \n",
    "   cancel_res = self.lable_show['text'][:-2] \n",
    "   self.lable_show['text'] = cancel_res \n",
    "  \n",
    "  \n",
    "#实例化计算器对象 \n",
    "wiz = Counter()"
   ]
  },
  {
   "cell_type": "markdown",
   "metadata": {},
   "source": [
    "5\\.Ball game:Python's pinball game, which can realize the game function of the keyboard control bottom baffle moving collision ball similar to table tennis game. \n",
    "\n",
    "<div style=\"float:left;\" ><img src=\"img/p5.png\" width=\"200\" height=\"200\" center=\"left\"></div>\n",
    "<div style=\"float:left;\" ><img src=\"img/p6.png\" width=\"200\" height=\"200\" center=\"right\" ></div>\n"
   ]
  },
  {
   "cell_type": "markdown",
   "metadata": {},
   "source": [
    "this is a step:how to install the matplotlib,you can reference this link:https://blog.csdn.net/not_give_up_/article/details/79058272\n",
    "1. Ball Class\n",
    "    draw is responsible for moving Ball\n",
    "    Collision detection, bounce, Ball detection of Paddle \n",
    "2. Paddle Class\n",
    "    draw is responsible for moving Paddle\n",
    "    Collision detection to determine whether or not to continue ,Monitor keyboard events\n",
    "3. main cycle\n",
    "    Drawing the Ball and Paddle"
   ]
  },
  {
   "cell_type": "code",
   "execution_count": 11,
   "metadata": {},
   "outputs": [
    {
     "ename": "TclError",
     "evalue": "invalid command name \".!canvas\"",
     "output_type": "error",
     "traceback": [
      "\u001b[1;31m---------------------------------------------------------------------------\u001b[0m",
      "\u001b[1;31mTclError\u001b[0m                                  Traceback (most recent call last)",
      "\u001b[1;32m<ipython-input-11-97347a7504a6>\u001b[0m in \u001b[0;36m<module>\u001b[1;34m()\u001b[0m\n\u001b[0;32m     62\u001b[0m \u001b[1;32mwhile\u001b[0m \u001b[1;36m1\u001b[0m\u001b[1;33m:\u001b[0m\u001b[1;33m\u001b[0m\u001b[0m\n\u001b[0;32m     63\u001b[0m     \u001b[1;32mif\u001b[0m \u001b[1;33m(\u001b[0m\u001b[0mball\u001b[0m\u001b[1;33m.\u001b[0m\u001b[0mhit_bottom\u001b[0m \u001b[1;33m==\u001b[0m \u001b[1;32mFalse\u001b[0m\u001b[1;33m)\u001b[0m\u001b[1;33m:\u001b[0m\u001b[1;33m\u001b[0m\u001b[0m\n\u001b[1;32m---> 64\u001b[1;33m         \u001b[0mball\u001b[0m\u001b[1;33m.\u001b[0m\u001b[0mdraw\u001b[0m\u001b[1;33m(\u001b[0m\u001b[1;33m)\u001b[0m\u001b[1;33m\u001b[0m\u001b[0m\n\u001b[0m\u001b[0;32m     65\u001b[0m         \u001b[0mpaddle\u001b[0m\u001b[1;33m.\u001b[0m\u001b[0mdraw\u001b[0m\u001b[1;33m(\u001b[0m\u001b[1;33m)\u001b[0m\u001b[1;33m\u001b[0m\u001b[0m\n\u001b[0;32m     66\u001b[0m     \u001b[0mtk\u001b[0m\u001b[1;33m.\u001b[0m\u001b[0mupdate_idletasks\u001b[0m\u001b[1;33m(\u001b[0m\u001b[1;33m)\u001b[0m\u001b[1;33m\u001b[0m\u001b[0m\n",
      "\u001b[1;32m<ipython-input-11-97347a7504a6>\u001b[0m in \u001b[0;36mdraw\u001b[1;34m(self)\u001b[0m\n\u001b[0;32m     19\u001b[0m         \u001b[0mself\u001b[0m\u001b[1;33m.\u001b[0m\u001b[0mhit_bottom\u001b[0m \u001b[1;33m=\u001b[0m \u001b[1;32mFalse\u001b[0m\u001b[1;33m\u001b[0m\u001b[0m\n\u001b[0;32m     20\u001b[0m     \u001b[1;32mdef\u001b[0m \u001b[0mdraw\u001b[0m\u001b[1;33m(\u001b[0m\u001b[0mself\u001b[0m\u001b[1;33m)\u001b[0m\u001b[1;33m:\u001b[0m\u001b[1;33m\u001b[0m\u001b[0m\n\u001b[1;32m---> 21\u001b[1;33m         \u001b[0mself\u001b[0m\u001b[1;33m.\u001b[0m\u001b[0mcanvas\u001b[0m\u001b[1;33m.\u001b[0m\u001b[0mmove\u001b[0m\u001b[1;33m(\u001b[0m\u001b[0mself\u001b[0m\u001b[1;33m.\u001b[0m\u001b[0mid\u001b[0m\u001b[1;33m,\u001b[0m \u001b[0mself\u001b[0m\u001b[1;33m.\u001b[0m\u001b[0mx\u001b[0m\u001b[1;33m,\u001b[0m \u001b[0mself\u001b[0m\u001b[1;33m.\u001b[0m\u001b[0my\u001b[0m\u001b[1;33m)\u001b[0m\u001b[1;33m\u001b[0m\u001b[0m\n\u001b[0m\u001b[0;32m     22\u001b[0m         \u001b[0mpos\u001b[0m \u001b[1;33m=\u001b[0m \u001b[0mself\u001b[0m\u001b[1;33m.\u001b[0m\u001b[0mcanvas\u001b[0m\u001b[1;33m.\u001b[0m\u001b[0mcoords\u001b[0m\u001b[1;33m(\u001b[0m\u001b[0mself\u001b[0m\u001b[1;33m.\u001b[0m\u001b[0mid\u001b[0m\u001b[1;33m)\u001b[0m\u001b[1;31m#top-left bottom-right\u001b[0m\u001b[1;33m\u001b[0m\u001b[0m\n\u001b[0;32m     23\u001b[0m         \u001b[1;32mif\u001b[0m \u001b[1;33m(\u001b[0m\u001b[0mpos\u001b[0m\u001b[1;33m[\u001b[0m\u001b[1;36m1\u001b[0m\u001b[1;33m]\u001b[0m \u001b[1;33m<=\u001b[0m \u001b[1;36m0\u001b[0m \u001b[1;32mor\u001b[0m \u001b[0mself\u001b[0m\u001b[1;33m.\u001b[0m\u001b[0mhit_paddle\u001b[0m\u001b[1;33m(\u001b[0m\u001b[0mpos\u001b[0m\u001b[1;33m)\u001b[0m \u001b[1;33m==\u001b[0m \u001b[1;32mTrue\u001b[0m\u001b[1;33m)\u001b[0m\u001b[1;33m:\u001b[0m\u001b[1;33m\u001b[0m\u001b[0m\n",
      "\u001b[1;32mE:\\Anaconda\\lib\\tkinter\\__init__.py\u001b[0m in \u001b[0;36mmove\u001b[1;34m(self, *args)\u001b[0m\n\u001b[0;32m   2586\u001b[0m     \u001b[1;32mdef\u001b[0m \u001b[0mmove\u001b[0m\u001b[1;33m(\u001b[0m\u001b[0mself\u001b[0m\u001b[1;33m,\u001b[0m \u001b[1;33m*\u001b[0m\u001b[0margs\u001b[0m\u001b[1;33m)\u001b[0m\u001b[1;33m:\u001b[0m\u001b[1;33m\u001b[0m\u001b[0m\n\u001b[0;32m   2587\u001b[0m         \u001b[1;34m\"\"\"Move an item TAGORID given in ARGS.\"\"\"\u001b[0m\u001b[1;33m\u001b[0m\u001b[0m\n\u001b[1;32m-> 2588\u001b[1;33m         \u001b[0mself\u001b[0m\u001b[1;33m.\u001b[0m\u001b[0mtk\u001b[0m\u001b[1;33m.\u001b[0m\u001b[0mcall\u001b[0m\u001b[1;33m(\u001b[0m\u001b[1;33m(\u001b[0m\u001b[0mself\u001b[0m\u001b[1;33m.\u001b[0m\u001b[0m_w\u001b[0m\u001b[1;33m,\u001b[0m \u001b[1;34m'move'\u001b[0m\u001b[1;33m)\u001b[0m \u001b[1;33m+\u001b[0m \u001b[0margs\u001b[0m\u001b[1;33m)\u001b[0m\u001b[1;33m\u001b[0m\u001b[0m\n\u001b[0m\u001b[0;32m   2589\u001b[0m     \u001b[1;32mdef\u001b[0m \u001b[0mpostscript\u001b[0m\u001b[1;33m(\u001b[0m\u001b[0mself\u001b[0m\u001b[1;33m,\u001b[0m \u001b[0mcnf\u001b[0m\u001b[1;33m=\u001b[0m\u001b[1;33m{\u001b[0m\u001b[1;33m}\u001b[0m\u001b[1;33m,\u001b[0m \u001b[1;33m**\u001b[0m\u001b[0mkw\u001b[0m\u001b[1;33m)\u001b[0m\u001b[1;33m:\u001b[0m\u001b[1;33m\u001b[0m\u001b[0m\n\u001b[0;32m   2590\u001b[0m         \"\"\"Print the contents of the canvas to a postscript\n",
      "\u001b[1;31mTclError\u001b[0m: invalid command name \".!canvas\""
     ]
    }
   ],
   "source": [
    "## write your answer here!\n",
    "from tkinter import *\n",
    "import matplotlib\n",
    "matplotlib.use('Agg')\n",
    "import random\n",
    "import time\n",
    "class Ball:\n",
    "    def __init__(self, canvas, paddle, color):\n",
    "        self.canvas = canvas\n",
    "        self.paddle = paddle\n",
    "        self.id = canvas.create_oval(10, 10, 25, 25, fill=color)\n",
    "        self.canvas.move(self.id, 245, 100)\n",
    "        startx = [-3, -2, -1, 1, 2, 3]\n",
    "        random.shuffle(startx)\n",
    "        self.x = startx[0]\n",
    "        self.y = -3\n",
    "        self.canvas_height = self.canvas.winfo_height()\n",
    "        self.canvas_width = self.canvas.winfo_width()\n",
    "        self.hit_bottom = False\n",
    "    def draw(self):\n",
    "        self.canvas.move(self.id, self.x, self.y)\n",
    "        pos = self.canvas.coords(self.id)#top-left bottom-right\n",
    "        if (pos[1] <= 0 or self.hit_paddle(pos) == True):\n",
    "            self.y = -self.y\n",
    "        if (pos[0] <= 0 or pos[2] >= self.canvas_width):\n",
    "            self.x = -self.x\n",
    "        if (pos[3] >= self.canvas_height):\n",
    "            self.hit_bottom = True\n",
    "    def hit_paddle(self, pos):\n",
    "        paddle_pos = self.canvas.coords(self.paddle.id)\n",
    "        if (pos[2] >= paddle_pos[0] and pos[0] <= paddle_pos[2]):\n",
    "            if (pos[3] >= paddle_pos[1] and pos[3] <= paddle_pos[3]):\n",
    "                return True\n",
    "        return False\n",
    "class Paddle:\n",
    "    def __init__(self, canvas, color):\n",
    "        self.canvas = canvas\n",
    "        self.id = canvas.create_rectangle(0, 0, 100, 10, fill = color)\n",
    "        self.x = 0\n",
    "        self.canvas.move(self.id, 200, 300)\n",
    "        self.canvas_width = self.canvas.winfo_width()\n",
    "        self.canvas.bind_all(\"<Key-Left>\", self.turn_left)\n",
    "        self.canvas.bind_all(\"<Key-Right>\", self.turn_right)\n",
    "    def draw(self):\n",
    "        pos = self.canvas.coords(self.id)\n",
    "        if (pos[0] + self.x >= 0 and pos[2] + self.x <= self.canvas_width):\n",
    "            self.canvas.move(self.id, self.x, 0)\n",
    "        #self.x = 0\n",
    "    def turn_left(self, event):\n",
    "        self.x = -4\n",
    "    def turn_right(self, event):\n",
    "        self.x = 4\n",
    "tk = Tk()\n",
    "tk.title(\"Game\")\n",
    "tk.resizable(0, 0)#not resizable\n",
    "tk.wm_attributes(\"-topmost\", 1)#at top\n",
    "canvas = Canvas(tk, width = 500, height = 500, bd = 0, highlightthickness = 0)\n",
    "canvas.pack()\n",
    "tk.update()#init\n",
    "paddle = Paddle(canvas, 'blue')\n",
    "ball = Ball(canvas, paddle, 'red')\n",
    "while 1:\n",
    "    if (ball.hit_bottom == False):\n",
    "        ball.draw()\n",
    "        paddle.draw()\n",
    "    tk.update_idletasks()\n",
    "    tk.update()\n",
    "    time.sleep(0.01)\n"
   ]
  },
  {
   "cell_type": "code",
   "execution_count": null,
   "metadata": {},
   "outputs": [],
   "source": []
  },
  {
   "cell_type": "code",
   "execution_count": null,
   "metadata": {},
   "outputs": [],
   "source": []
  }
 ],
 "metadata": {
  "kernelspec": {
   "display_name": "Python 3",
   "language": "python",
   "name": "python3"
  },
  "language_info": {
   "codemirror_mode": {
    "name": "ipython",
    "version": 3
   },
   "file_extension": ".py",
   "mimetype": "text/x-python",
   "name": "python",
   "nbconvert_exporter": "python",
   "pygments_lexer": "ipython3",
   "version": "3.6.5"
  }
 },
 "nbformat": 4,
 "nbformat_minor": 2
}
